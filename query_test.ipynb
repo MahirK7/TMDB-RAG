{
 "cells": [
  {
   "cell_type": "code",
   "execution_count": null,
   "id": "4cdaaf78",
   "metadata": {},
   "outputs": [],
   "source": [
    "from rag_chain import build_qa_chain\n",
    "\n",
    "qa = build_qa_chain()\n",
    "query = \"List popular Indian TV shows released after 2020\"\n",
    "result = qa.invoke(query)\n",
    "\n",
    "print(\"\\n📝 Answer:\", result[\"result\"])\n",
    "print(\"\\n📂 Sources:\")\n",
    "for doc in result[\"source_documents\"]:\n",
    "    print(\"-\", doc.page_content[:200], \"...\")\n"
   ]
  }
 ],
 "metadata": {
  "language_info": {
   "name": "python"
  }
 },
 "nbformat": 4,
 "nbformat_minor": 5
}
